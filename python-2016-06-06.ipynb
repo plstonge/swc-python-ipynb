{
 "cells": [
  {
   "cell_type": "markdown",
   "metadata": {},
   "source": [
    "# Introduction à la programmation avec Python"
   ]
  },
  {
   "cell_type": "markdown",
   "metadata": {},
   "source": [
    "## À propos du Notebook Jupyter\n",
    "* Plusieurs opérations telles que l'exécution ou l'insertion d'une cellule peuvent se faire à l'aide de la barre d'outils ci-haut.\n",
    "* Voici une liste de raccourcis pour le clavier :\n",
    "\n",
    "| Raccourcis            | Action                                |\n",
    "|-----------------------|---------------------------------------|\n",
    "| **Maj + Entrée**      | Exécuter le code                      |\n",
    "| Double-clic ou Entrée | Entrer dans la boîte (mode édition)   |\n",
    "| Esc                   | Sordir de la boîte (mode commandes)   |\n",
    "\n",
    "| En mode édition: |                        |\n",
    "|------------------|------------------------|\n",
    "| Tab              | Compléter une commande |\n",
    "\n",
    "| En mode commandes: |                                |\n",
    "|--------------------|--------------------------------|\n",
    "| b                  | Insérer une cellule en-dessous |\n",
    "| a                  | Insérer une cellule au-dessus  |\n",
    "| s                  | Sauvegarder                    |\n",
    "| x/c/v              | Couper/Copier/Coller           |"
   ]
  },
  {
   "cell_type": "code",
   "execution_count": 1,
   "metadata": {
    "collapsed": true
   },
   "outputs": [],
   "source": [
    "import numpy"
   ]
  },
  {
   "cell_type": "code",
   "execution_count": 2,
   "metadata": {
    "collapsed": false
   },
   "outputs": [
    {
     "data": {
      "text/plain": [
       "array([[ 0.,  0.,  1., ...,  3.,  0.,  0.],\n",
       "       [ 0.,  1.,  2., ...,  1.,  0.,  1.],\n",
       "       [ 0.,  1.,  1., ...,  2.,  1.,  1.],\n",
       "       ..., \n",
       "       [ 0.,  1.,  1., ...,  1.,  1.,  1.],\n",
       "       [ 0.,  0.,  0., ...,  0.,  2.,  0.],\n",
       "       [ 0.,  0.,  1., ...,  1.,  1.,  0.]])"
      ]
     },
     "execution_count": 2,
     "metadata": {},
     "output_type": "execute_result"
    }
   ],
   "source": [
    "numpy.loadtxt(fname=\"data/inflammation-01.csv\", delimiter=',')"
   ]
  },
  {
   "cell_type": "code",
   "execution_count": 3,
   "metadata": {
    "collapsed": true
   },
   "outputs": [],
   "source": [
    "poids_kg = 55"
   ]
  },
  {
   "cell_type": "code",
   "execution_count": 4,
   "metadata": {
    "collapsed": false
   },
   "outputs": [
    {
     "name": "stdout",
     "output_type": "stream",
     "text": [
      "55\n"
     ]
    }
   ],
   "source": [
    "print(poids_kg)"
   ]
  },
  {
   "cell_type": "code",
   "execution_count": null,
   "metadata": {
    "collapsed": true
   },
   "outputs": [],
   "source": [
    "print(\"Poids en livres: \", 2.2 * poids_kg)"
   ]
  }
 ],
 "metadata": {
  "kernelspec": {
   "display_name": "Python 3",
   "language": "python",
   "name": "python3"
  },
  "language_info": {
   "codemirror_mode": {
    "name": "ipython",
    "version": 3
   },
   "file_extension": ".py",
   "mimetype": "text/x-python",
   "name": "python",
   "nbconvert_exporter": "python",
   "pygments_lexer": "ipython3",
   "version": "3.5.1"
  }
 },
 "nbformat": 4,
 "nbformat_minor": 0
}
