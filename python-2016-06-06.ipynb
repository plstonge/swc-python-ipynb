{
 "cells": [
  {
   "cell_type": "markdown",
   "metadata": {},
   "source": [
    "# Introduction à la programmation avec Python"
   ]
  },
  {
   "cell_type": "markdown",
   "metadata": {},
   "source": [
    "## À propos du Notebook Jupyter\n",
    "* Plusieurs opérations telles que l'exécution ou l'insertion d'une cellule peuvent se faire à l'aide de la barre d'outils ci-haut.\n",
    "* Voici une liste de raccourcis pour le clavier :\n",
    "\n",
    "| Raccourcis            | Action                                |\n",
    "|-----------------------|---------------------------------------|\n",
    "| **Maj + Entrée**      | Exécuter le code                      |\n",
    "| Double-clic ou Entrée | Entrer dans la boîte (mode édition)   |\n",
    "| Esc                   | Sordir de la boîte (mode commandes)   |\n",
    "\n",
    "| En mode édition: |                        |\n",
    "|------------------|------------------------|\n",
    "| Tab              | Compléter une commande |\n",
    "\n",
    "| En mode commandes: |                                |\n",
    "|--------------------|--------------------------------|\n",
    "| b                  | Insérer une cellule en-dessous |\n",
    "| a                  | Insérer une cellule au-dessus  |\n",
    "| s                  | Sauvegarder                    |\n",
    "| x/c/v              | Couper/Copier/Coller           |"
   ]
  },
  {
   "cell_type": "code",
   "execution_count": 1,
   "metadata": {
    "collapsed": true
   },
   "outputs": [],
   "source": [
    "import numpy"
   ]
  },
  {
   "cell_type": "code",
   "execution_count": 2,
   "metadata": {
    "collapsed": false
   },
   "outputs": [
    {
     "data": {
      "text/plain": [
       "array([[ 0.,  0.,  1., ...,  3.,  0.,  0.],\n",
       "       [ 0.,  1.,  2., ...,  1.,  0.,  1.],\n",
       "       [ 0.,  1.,  1., ...,  2.,  1.,  1.],\n",
       "       ..., \n",
       "       [ 0.,  1.,  1., ...,  1.,  1.,  1.],\n",
       "       [ 0.,  0.,  0., ...,  0.,  2.,  0.],\n",
       "       [ 0.,  0.,  1., ...,  1.,  1.,  0.]])"
      ]
     },
     "execution_count": 2,
     "metadata": {},
     "output_type": "execute_result"
    }
   ],
   "source": [
    "numpy.loadtxt(fname=\"data/inflammation-01.csv\", delimiter=',')"
   ]
  },
  {
   "cell_type": "code",
   "execution_count": 3,
   "metadata": {
    "collapsed": true
   },
   "outputs": [],
   "source": [
    "poids_kg = 55"
   ]
  },
  {
   "cell_type": "code",
   "execution_count": 4,
   "metadata": {
    "collapsed": false
   },
   "outputs": [
    {
     "name": "stdout",
     "output_type": "stream",
     "text": [
      "55\n"
     ]
    }
   ],
   "source": [
    "print(poids_kg)"
   ]
  },
  {
   "cell_type": "code",
   "execution_count": 5,
   "metadata": {
    "collapsed": false
   },
   "outputs": [
    {
     "name": "stdout",
     "output_type": "stream",
     "text": [
      "Poids en livres:  121.00000000000001\n"
     ]
    }
   ],
   "source": [
    "print(\"Poids en livres: \", 2.2 * poids_kg)"
   ]
  },
  {
   "cell_type": "code",
   "execution_count": 7,
   "metadata": {
    "collapsed": false
   },
   "outputs": [
    {
     "name": "stdout",
     "output_type": "stream",
     "text": [
      "Poids en livres:  121.00000000000001\n"
     ]
    }
   ],
   "source": [
    "poids_lb = 2.2 * poids_kg\n",
    "print(\"Poids en livres: \", poids_lb)"
   ]
  },
  {
   "cell_type": "code",
   "execution_count": 11,
   "metadata": {
    "collapsed": false
   },
   "outputs": [
    {
     "name": "stdout",
     "output_type": "stream",
     "text": [
      "57.5\n",
      "126.50000000000001\n"
     ]
    }
   ],
   "source": [
    "poids_kg = 57.5\n",
    "poids_lb = 2.2 * poids_kg\n",
    "print(poids_kg)\n",
    "print(poids_lb)"
   ]
  },
  {
   "cell_type": "code",
   "execution_count": 12,
   "metadata": {
    "collapsed": false
   },
   "outputs": [
    {
     "name": "stdout",
     "output_type": "stream",
     "text": [
      "100\n",
      "126.50000000000001\n"
     ]
    }
   ],
   "source": [
    "poids_kg = 100\n",
    "print(poids_kg)\n",
    "print(poids_lb)"
   ]
  },
  {
   "cell_type": "code",
   "execution_count": 13,
   "metadata": {
    "collapsed": true
   },
   "outputs": [],
   "source": [
    "donnees = numpy.loadtxt(fname=\"data/inflammation-01.csv\", delimiter=',')"
   ]
  },
  {
   "cell_type": "code",
   "execution_count": 14,
   "metadata": {
    "collapsed": false
   },
   "outputs": [
    {
     "name": "stdout",
     "output_type": "stream",
     "text": [
      "[[ 0.  0.  1. ...,  3.  0.  0.]\n",
      " [ 0.  1.  2. ...,  1.  0.  1.]\n",
      " [ 0.  1.  1. ...,  2.  1.  1.]\n",
      " ..., \n",
      " [ 0.  1.  1. ...,  1.  1.  1.]\n",
      " [ 0.  0.  0. ...,  0.  2.  0.]\n",
      " [ 0.  0.  1. ...,  1.  1.  0.]]\n"
     ]
    }
   ],
   "source": [
    "print(donnees)"
   ]
  },
  {
   "cell_type": "code",
   "execution_count": 15,
   "metadata": {
    "collapsed": false
   },
   "outputs": [
    {
     "name": "stdout",
     "output_type": "stream",
     "text": [
      "<class 'numpy.ndarray'>\n"
     ]
    }
   ],
   "source": [
    "print(type(donnees))"
   ]
  },
  {
   "cell_type": "code",
   "execution_count": 16,
   "metadata": {
    "collapsed": false
   },
   "outputs": [
    {
     "name": "stdout",
     "output_type": "stream",
     "text": [
      "(60, 40)\n"
     ]
    }
   ],
   "source": [
    "print(donnees.shape)"
   ]
  },
  {
   "cell_type": "code",
   "execution_count": 18,
   "metadata": {
    "collapsed": false
   },
   "outputs": [
    {
     "name": "stdout",
     "output_type": "stream",
     "text": [
      "Patient 0, 3e journee:  1.0\n"
     ]
    }
   ],
   "source": [
    "print(\"Patient 0, 3e journee: \", donnees[0, 2])"
   ]
  },
  {
   "cell_type": "code",
   "execution_count": 20,
   "metadata": {
    "collapsed": false
   },
   "outputs": [
    {
     "name": "stdout",
     "output_type": "stream",
     "text": [
      "Patient du milieu:  13.0\n"
     ]
    }
   ],
   "source": [
    "print(\"Patient du milieu: \", donnees[30, 20])"
   ]
  },
  {
   "cell_type": "code",
   "execution_count": 21,
   "metadata": {
    "collapsed": false
   },
   "outputs": [
    {
     "name": "stdout",
     "output_type": "stream",
     "text": [
      "[[ 0.  0.  1.  2.  2.  4.  2.  1.  6.  4.]\n",
      " [ 0.  0.  2.  2.  4.  2.  2.  5.  5.  8.]\n",
      " [ 0.  0.  1.  2.  3.  1.  2.  3.  5.  3.]\n",
      " [ 0.  0.  0.  3.  1.  5.  6.  5.  5.  8.]\n",
      " [ 0.  1.  1.  2.  1.  3.  5.  3.  5.  8.]]\n"
     ]
    }
   ],
   "source": [
    "print(donnees[5:10, 0:10])"
   ]
  },
  {
   "cell_type": "code",
   "execution_count": 22,
   "metadata": {
    "collapsed": false
   },
   "outputs": [
    {
     "name": "stdout",
     "output_type": "stream",
     "text": [
      "[[ 2.  3.  0.  0.]\n",
      " [ 1.  1.  0.  1.]\n",
      " [ 2.  2.  1.  1.]]\n"
     ]
    }
   ],
   "source": [
    "petit = donnees[:3, 36:]\n",
    "print(petit)"
   ]
  },
  {
   "cell_type": "code",
   "execution_count": 24,
   "metadata": {
    "collapsed": false
   },
   "outputs": [],
   "source": [
    "doubledonnees = donnees * 2.0"
   ]
  },
  {
   "cell_type": "code",
   "execution_count": 26,
   "metadata": {
    "collapsed": false
   },
   "outputs": [
    {
     "name": "stdout",
     "output_type": "stream",
     "text": [
      "Original:\n",
      "[[ 0.  0.  1. ...,  3.  0.  0.]\n",
      " [ 0.  1.  2. ...,  1.  0.  1.]\n",
      " [ 0.  1.  1. ...,  2.  1.  1.]\n",
      " ..., \n",
      " [ 0.  1.  1. ...,  1.  1.  1.]\n",
      " [ 0.  0.  0. ...,  0.  2.  0.]\n",
      " [ 0.  0.  1. ...,  1.  1.  0.]]\n",
      "Double:\n",
      "[[ 0.  0.  2. ...,  6.  0.  0.]\n",
      " [ 0.  2.  4. ...,  2.  0.  2.]\n",
      " [ 0.  2.  2. ...,  4.  2.  2.]\n",
      " ..., \n",
      " [ 0.  2.  2. ...,  2.  2.  2.]\n",
      " [ 0.  0.  0. ...,  0.  4.  0.]\n",
      " [ 0.  0.  2. ...,  2.  2.  0.]]\n"
     ]
    }
   ],
   "source": [
    "print(\"Original:\")\n",
    "print(donnees)\n",
    "print(\"Double:\")\n",
    "print(doubledonnees)"
   ]
  },
  {
   "cell_type": "code",
   "execution_count": 27,
   "metadata": {
    "collapsed": true
   },
   "outputs": [],
   "source": [
    "tripledonnees = doubledonnees + donnees"
   ]
  },
  {
   "cell_type": "code",
   "execution_count": 28,
   "metadata": {
    "collapsed": false,
    "scrolled": true
   },
   "outputs": [
    {
     "name": "stdout",
     "output_type": "stream",
     "text": [
      "Triple donnees: \n",
      "[[ 6.  9.  0.  0.]\n",
      " [ 3.  3.  0.  3.]\n",
      " [ 6.  6.  3.  3.]]\n"
     ]
    }
   ],
   "source": [
    "print(\"Triple donnees: \")\n",
    "print(tripledonnees[:3, 36:])"
   ]
  },
  {
   "cell_type": "code",
   "execution_count": 29,
   "metadata": {
    "collapsed": false,
    "scrolled": true
   },
   "outputs": [
    {
     "data": {
      "text/plain": [
       "array([[  0.,   0.,   2., ...,  18.,   0.,   0.],\n",
       "       [  0.,   2.,   8., ...,   2.,   0.,   2.],\n",
       "       [  0.,   2.,   2., ...,   8.,   2.,   2.],\n",
       "       ..., \n",
       "       [  0.,   2.,   2., ...,   2.,   2.,   2.],\n",
       "       [  0.,   0.,   0., ...,   0.,   8.,   0.],\n",
       "       [  0.,   0.,   2., ...,   2.,   2.,   0.]])"
      ]
     },
     "execution_count": 29,
     "metadata": {},
     "output_type": "execute_result"
    }
   ],
   "source": [
    "doubledonnees * donnees"
   ]
  },
  {
   "cell_type": "code",
   "execution_count": 30,
   "metadata": {
    "collapsed": false,
    "scrolled": true
   },
   "outputs": [
    {
     "name": "stdout",
     "output_type": "stream",
     "text": [
      "Maximum: 20.0\n",
      "Minimum: 0.0\n",
      "Dev. std: 4.61383319712\n"
     ]
    }
   ],
   "source": [
    "print(\"Maximum:\", donnees.max())\n",
    "print(\"Minimum:\", donnees.min())\n",
    "print(\"Dev. std:\", donnees.std())"
   ]
  },
  {
   "cell_type": "code",
   "execution_count": 35,
   "metadata": {
    "collapsed": false
   },
   "outputs": [
    {
     "name": "stdout",
     "output_type": "stream",
     "text": [
      "(40,)\n"
     ]
    }
   ],
   "source": [
    "patient0 = donnees[0, :]\n",
    "print(patient0.shape)"
   ]
  },
  {
   "cell_type": "code",
   "execution_count": 37,
   "metadata": {
    "collapsed": false
   },
   "outputs": [
    {
     "name": "stdout",
     "output_type": "stream",
     "text": [
      "Moyenne patient 0: 18.0\n"
     ]
    }
   ],
   "source": [
    "print(\"Moyenne patient 0:\", patient0.max())"
   ]
  },
  {
   "cell_type": "code",
   "execution_count": 38,
   "metadata": {
    "collapsed": false
   },
   "outputs": [
    {
     "name": "stdout",
     "output_type": "stream",
     "text": [
      "[  0.           0.45         1.11666667   1.75         2.43333333   3.15\n",
      "   3.8          3.88333333   5.23333333   5.51666667   5.95         5.9\n",
      "   8.35         7.73333333   8.36666667   9.5          9.58333333\n",
      "  10.63333333  11.56666667  12.35        13.25        11.96666667\n",
      "  11.03333333  10.16666667  10.           8.66666667   9.15         7.25\n",
      "   7.33333333   6.58333333   6.06666667   5.95         5.11666667   3.6\n",
      "   3.3          3.56666667   2.48333333   1.5          1.13333333\n",
      "   0.56666667]\n"
     ]
    }
   ],
   "source": [
    "print(donnees.mean(axis=0))"
   ]
  },
  {
   "cell_type": "code",
   "execution_count": 39,
   "metadata": {
    "collapsed": false
   },
   "outputs": [
    {
     "data": {
      "text/plain": [
       "(40,)"
      ]
     },
     "execution_count": 39,
     "metadata": {},
     "output_type": "execute_result"
    }
   ],
   "source": [
    "donnees.mean(axis=0).shape"
   ]
  },
  {
   "cell_type": "code",
   "execution_count": 40,
   "metadata": {
    "collapsed": false
   },
   "outputs": [
    {
     "name": "stderr",
     "output_type": "stream",
     "text": [
      "/home/etudiant/anaconda3/lib/python3.5/site-packages/matplotlib/font_manager.py:273: UserWarning: Matplotlib is building the font cache using fc-list. This may take a moment.\n",
      "  warnings.warn('Matplotlib is building the font cache using fc-list. This may take a moment.')\n",
      "/home/etudiant/anaconda3/lib/python3.5/site-packages/matplotlib/font_manager.py:273: UserWarning: Matplotlib is building the font cache using fc-list. This may take a moment.\n",
      "  warnings.warn('Matplotlib is building the font cache using fc-list. This may take a moment.')\n"
     ]
    }
   ],
   "source": [
    "import matplotlib.pyplot"
   ]
  },
  {
   "cell_type": "code",
   "execution_count": 1,
   "metadata": {
    "collapsed": true
   },
   "outputs": [],
   "source": [
    "% matplotlib inline"
   ]
  },
  {
   "cell_type": "code",
   "execution_count": 42,
   "metadata": {
    "collapsed": false
   },
   "outputs": [
    {
     "name": "stdout",
     "output_type": "stream",
     "text": [
      "donnees\t doubledonnees\t matplotlib\t numpy\t patient0\t petit\t poids_kg\t poids_lb\t tripledonnees\t \n",
      "\n"
     ]
    }
   ],
   "source": [
    "%who"
   ]
  },
  {
   "cell_type": "code",
   "execution_count": 47,
   "metadata": {
    "collapsed": false,
    "scrolled": false
   },
   "outputs": [
    {
     "data": {
      "image/png": "[encoded data removed]",
      "text/plain": [
       "<matplotlib.figure.Figure at 0xaef7498c>"
      ]
     },
     "metadata": {},
     "output_type": "display_data"
    }
   ],
   "source": [
    "image = matplotlib.pyplot.imshow(donnees)\n",
    "#matplotlib.pyplot.show()"
   ]
  },
  {
   "cell_type": "code",
   "execution_count": 48,
   "metadata": {
    "collapsed": false,
    "scrolled": true
   },
   "outputs": [
    {
     "data": {
      "image/png": "[encoded data removed]",
      "text/plain": [
       "<matplotlib.figure.Figure at 0xab87bccc>"
      ]
     },
     "metadata": {},
     "output_type": "display_data"
    }
   ],
   "source": [
    "moyennes = donnees.mean(axis=0)\n",
    "plotMoy = matplotlib.pyplot.plot(moyennes)\n",
    "matplotlib.pyplot.show(plotMoy)"
   ]
  },
  {
   "cell_type": "code",
   "execution_count": 49,
   "metadata": {
    "collapsed": false
   },
   "outputs": [
    {
     "data": {
      "image/png": "[encoded data removed]",
      "text/plain": [
       "<matplotlib.figure.Figure at 0xab87be6c>"
      ]
     },
     "metadata": {},
     "output_type": "display_data"
    }
   ],
   "source": [
    "plotMax = matplotlib.pyplot.plot(donnees.max(axis=0))\n",
    "matplotlib.pyplot.show(plotMax)"
   ]
  },
  {
   "cell_type": "code",
   "execution_count": 50,
   "metadata": {
    "collapsed": false,
    "scrolled": true
   },
   "outputs": [
    {
     "data": {
      "image/png": "[encoded data removed]",
      "text/plain": [
       "<matplotlib.figure.Figure at 0xaf3024ec>"
      ]
     },
     "metadata": {},
     "output_type": "display_data"
    }
   ],
   "source": [
    "plotMin = matplotlib.pyplot.plot(donnees.min(axis=0))\n",
    "matplotlib.pyplot.show(plotMin)"
   ]
  },
  {
   "cell_type": "code",
   "execution_count": 2,
   "metadata": {
    "collapsed": false,
    "scrolled": true
   },
   "outputs": [
    {
     "data": {
      "image/png": "[encoded data removed]",
      "text/plain": [
       "<matplotlib.figure.Figure at 0xaeff142c>"
      ]
     },
     "metadata": {},
     "output_type": "display_data"
    }
   ],
   "source": [
    "import numpy\n",
    "import matplotlib.pyplot\n",
    "\n",
    "donnees = numpy.loadtxt(fname=\"data/inflammation-01.csv\", delimiter=',')\n",
    "\n",
    "fig = matplotlib.pyplot.figure(figsize=(10.0, 3.0))\n",
    "\n",
    "fig1 = fig.add_subplot(1, 3, 1)\n",
    "fig2 = fig.add_subplot(1, 3, 2)\n",
    "fig3 = fig.add_subplot(1, 3, 3)\n",
    "\n",
    "fig1.set_ylabel(\"Moyenne\")\n",
    "fig1.plot(donnees.mean(axis=0))\n",
    "\n",
    "fig2.set_ylabel(\"Maximum\")\n",
    "fig2.plot(donnees.max(axis=0))\n",
    "\n",
    "fig3.set_ylabel(\"Minimum\")\n",
    "fig3.plot(donnees.min(axis=0))\n",
    "\n",
    "fig.tight_layout()\n",
    "matplotlib.pyplot.show(fig)"
   ]
  },
  {
   "cell_type": "code",
   "execution_count": 55,
   "metadata": {
    "collapsed": true
   },
   "outputs": [],
   "source": [
    "element = \"oxygen\""
   ]
  },
  {
   "cell_type": "code",
   "execution_count": 53,
   "metadata": {
    "collapsed": false
   },
   "outputs": [
    {
     "data": {
      "text/plain": [
       "'gene'"
      ]
     },
     "execution_count": 53,
     "metadata": {},
     "output_type": "execute_result"
    }
   ],
   "source": [
    "element[3:]"
   ]
  },
  {
   "cell_type": "code",
   "execution_count": 56,
   "metadata": {
    "collapsed": false
   },
   "outputs": [
    {
     "data": {
      "text/plain": [
       "'n'"
      ]
     },
     "execution_count": 56,
     "metadata": {},
     "output_type": "execute_result"
    }
   ],
   "source": [
    "element[-1]"
   ]
  },
  {
   "cell_type": "code",
   "execution_count": 57,
   "metadata": {
    "collapsed": false
   },
   "outputs": [
    {
     "data": {
      "text/plain": [
       "'xyge'"
      ]
     },
     "execution_count": 57,
     "metadata": {},
     "output_type": "execute_result"
    }
   ],
   "source": [
    "element[1:-1]"
   ]
  },
  {
   "cell_type": "code",
   "execution_count": 58,
   "metadata": {
    "collapsed": false,
    "scrolled": true
   },
   "outputs": [
    {
     "data": {
      "text/plain": [
       "array([], shape=(0, 0), dtype=float64)"
      ]
     },
     "execution_count": 58,
     "metadata": {},
     "output_type": "execute_result"
    }
   ],
   "source": [
    "donnees[3:3, 4:4]"
   ]
  },
  {
   "cell_type": "markdown",
   "metadata": {},
   "source": [
    "## Chapitre 2 - Les boucles for"
   ]
  },
  {
   "cell_type": "code",
   "execution_count": 60,
   "metadata": {
    "collapsed": false
   },
   "outputs": [
    {
     "name": "stdout",
     "output_type": "stream",
     "text": [
      "p\n",
      "r\n",
      "o\n",
      "f\n"
     ]
    }
   ],
   "source": [
    "mot = \"prof\"\n",
    "print(mot[0])\n",
    "print(mot[1])\n",
    "print(mot[2])\n",
    "print(mot[3])"
   ]
  },
  {
   "cell_type": "code",
   "execution_count": 61,
   "metadata": {
    "collapsed": false,
    "scrolled": true
   },
   "outputs": [
    {
     "name": "stdout",
     "output_type": "stream",
     "text": [
      "e\n",
      "t\n",
      "e\n"
     ]
    },
    {
     "ename": "IndexError",
     "evalue": "string index out of range",
     "output_type": "error",
     "traceback": [
      "\u001b[1;31m---------------------------------------------------------------------------\u001b[0m",
      "\u001b[1;31mIndexError\u001b[0m                                Traceback (most recent call last)",
      "\u001b[1;32m<ipython-input-61-4d4177921af5>\u001b[0m in \u001b[0;36m<module>\u001b[1;34m()\u001b[0m\n\u001b[0;32m      3\u001b[0m \u001b[0mprint\u001b[0m\u001b[1;33m(\u001b[0m\u001b[0mmot\u001b[0m\u001b[1;33m[\u001b[0m\u001b[1;36m1\u001b[0m\u001b[1;33m]\u001b[0m\u001b[1;33m)\u001b[0m\u001b[1;33m\u001b[0m\u001b[0m\n\u001b[0;32m      4\u001b[0m \u001b[0mprint\u001b[0m\u001b[1;33m(\u001b[0m\u001b[0mmot\u001b[0m\u001b[1;33m[\u001b[0m\u001b[1;36m2\u001b[0m\u001b[1;33m]\u001b[0m\u001b[1;33m)\u001b[0m\u001b[1;33m\u001b[0m\u001b[0m\n\u001b[1;32m----> 5\u001b[1;33m \u001b[0mprint\u001b[0m\u001b[1;33m(\u001b[0m\u001b[0mmot\u001b[0m\u001b[1;33m[\u001b[0m\u001b[1;36m3\u001b[0m\u001b[1;33m]\u001b[0m\u001b[1;33m)\u001b[0m\u001b[1;33m\u001b[0m\u001b[0m\n\u001b[0m",
      "\u001b[1;31mIndexError\u001b[0m: string index out of range"
     ]
    }
   ],
   "source": [
    "mot = \"ete\"\n",
    "print(mot[0])\n",
    "print(mot[1])\n",
    "print(mot[2])\n",
    "print(mot[3])"
   ]
  },
  {
   "cell_type": "code",
   "execution_count": 63,
   "metadata": {
    "collapsed": false
   },
   "outputs": [
    {
     "name": "stdout",
     "output_type": "stream",
     "text": [
      "p\n",
      "r\n",
      "o\n",
      "f\n"
     ]
    }
   ],
   "source": [
    "mot = \"prof\"\n",
    "for car in mot:\n",
    "    print(car)"
   ]
  },
  {
   "cell_type": "code",
   "execution_count": 64,
   "metadata": {
    "collapsed": false
   },
   "outputs": [
    {
     "name": "stdout",
     "output_type": "stream",
     "text": [
      "p\n",
      "r\n",
      "o\n",
      "f\n",
      "e\n",
      "s\n",
      "s\n",
      "e\n",
      "u\n",
      "r\n"
     ]
    }
   ],
   "source": [
    "mot = \"professeur\"\n",
    "for car in mot:\n",
    "    print(car)"
   ]
  },
  {
   "cell_type": "code",
   "execution_count": 70,
   "metadata": {
    "collapsed": false,
    "scrolled": true
   },
   "outputs": [
    {
     "name": "stdout",
     "output_type": "stream",
     "text": [
      "Nombre de lettres:  10\n",
      "Derniere lettre:  r\n"
     ]
    }
   ],
   "source": [
    "nb = 0\n",
    "car = \"z\"\n",
    "for car in \"professeur\":\n",
    "    nb = nb + 1\n",
    "print(\"Nombre de lettres: \", nb)\n",
    "print(\"Derniere lettre: \", car)"
   ]
  },
  {
   "cell_type": "code",
   "execution_count": 71,
   "metadata": {
    "collapsed": false
   },
   "outputs": [
    {
     "name": "stdout",
     "output_type": "stream",
     "text": [
      "10\n"
     ]
    }
   ],
   "source": [
    "print(len(\"professeur\"))"
   ]
  },
  {
   "cell_type": "code",
   "execution_count": 72,
   "metadata": {
    "collapsed": false
   },
   "outputs": [
    {
     "name": "stdout",
     "output_type": "stream",
     "text": [
      "0\n",
      "1\n",
      "2\n",
      "3\n"
     ]
    }
   ],
   "source": [
    "for i in range(4):\n",
    "    print(i)"
   ]
  },
  {
   "cell_type": "code",
   "execution_count": 74,
   "metadata": {
    "collapsed": false
   },
   "outputs": [
    {
     "name": "stdout",
     "output_type": "stream",
     "text": [
      "3\n",
      "4\n",
      "5\n"
     ]
    }
   ],
   "source": [
    "for i in range(3, 6):\n",
    "    print(i)"
   ]
  },
  {
   "cell_type": "code",
   "execution_count": 76,
   "metadata": {
    "collapsed": false
   },
   "outputs": [
    {
     "name": "stdout",
     "output_type": "stream",
     "text": [
      "3\n",
      "5\n",
      "7\n",
      "9\n"
     ]
    }
   ],
   "source": [
    "for i in range(3, 11, 2):\n",
    "    print(i)"
   ]
  },
  {
   "cell_type": "code",
   "execution_count": 78,
   "metadata": {
    "collapsed": false
   },
   "outputs": [
    {
     "name": "stdout",
     "output_type": "stream",
     "text": [
      "125\n"
     ]
    }
   ],
   "source": [
    "# A transformer en boucle:\n",
    "print(5**3)"
   ]
  },
  {
   "cell_type": "markdown",
   "metadata": {},
   "source": [
    "### Solution"
   ]
  },
  {
   "cell_type": "code",
   "execution_count": 79,
   "metadata": {
    "collapsed": false
   },
   "outputs": [
    {
     "name": "stdout",
     "output_type": "stream",
     "text": [
      "125\n"
     ]
    }
   ],
   "source": [
    "produit = 1\n",
    "for i in range(3):\n",
    "    produit = produit * 5\n",
    "print(produit)"
   ]
  },
  {
   "cell_type": "code",
   "execution_count": 80,
   "metadata": {
    "collapsed": true
   },
   "outputs": [],
   "source": [
    "## Chapitre 3"
   ]
  },
  {
   "cell_type": "code",
   "execution_count": 81,
   "metadata": {
    "collapsed": false,
    "scrolled": true
   },
   "outputs": [
    {
     "name": "stdout",
     "output_type": "stream",
     "text": [
      "[3, 5, 7, 9]\n"
     ]
    }
   ],
   "source": [
    "impairs = [3, 5, 7, 9]\n",
    "print(impairs)"
   ]
  },
  {
   "cell_type": "code",
   "execution_count": 82,
   "metadata": {
    "collapsed": false,
    "scrolled": true
   },
   "outputs": [
    {
     "name": "stdout",
     "output_type": "stream",
     "text": [
      "3\n",
      "9\n"
     ]
    }
   ],
   "source": [
    "print(impairs[0])\n",
    "print(impairs[-1])"
   ]
  },
  {
   "cell_type": "code",
   "execution_count": 83,
   "metadata": {
    "collapsed": false
   },
   "outputs": [
    {
     "name": "stdout",
     "output_type": "stream",
     "text": [
      "3\n",
      "5\n",
      "7\n",
      "9\n"
     ]
    }
   ],
   "source": [
    "for nombre in impairs:\n",
    "    print(nombre)"
   ]
  },
  {
   "cell_type": "code",
   "execution_count": 86,
   "metadata": {
    "collapsed": false
   },
   "outputs": [
    {
     "name": "stdout",
     "output_type": "stream",
     "text": [
      "['Newton', 'Darwing', 'Turing']\n"
     ]
    },
    {
     "ename": "TypeError",
     "evalue": "'str' object does not support item assignment",
     "output_type": "error",
     "traceback": [
      "\u001b[1;31m---------------------------------------------------------------------------\u001b[0m",
      "\u001b[1;31mTypeError\u001b[0m                                 Traceback (most recent call last)",
      "\u001b[1;32m<ipython-input-86-7f97e5926b44>\u001b[0m in \u001b[0;36m<module>\u001b[1;34m()\u001b[0m\n\u001b[0;32m      1\u001b[0m \u001b[0mnoms\u001b[0m \u001b[1;33m=\u001b[0m \u001b[1;33m[\u001b[0m\u001b[1;34m'Newton'\u001b[0m\u001b[1;33m,\u001b[0m \u001b[1;34m'Darwing'\u001b[0m\u001b[1;33m,\u001b[0m \u001b[1;34m'Turing'\u001b[0m\u001b[1;33m]\u001b[0m\u001b[1;33m\u001b[0m\u001b[0m\n\u001b[0;32m      2\u001b[0m \u001b[0mprint\u001b[0m\u001b[1;33m(\u001b[0m\u001b[0mnoms\u001b[0m\u001b[1;33m)\u001b[0m\u001b[1;33m\u001b[0m\u001b[0m\n\u001b[1;32m----> 3\u001b[1;33m \u001b[0mnoms\u001b[0m\u001b[1;33m[\u001b[0m\u001b[1;36m1\u001b[0m\u001b[1;33m]\u001b[0m\u001b[1;33m[\u001b[0m\u001b[1;36m6\u001b[0m\u001b[1;33m]\u001b[0m \u001b[1;33m=\u001b[0m \u001b[1;34m\" \"\u001b[0m\u001b[1;33m\u001b[0m\u001b[0m\n\u001b[0m",
      "\u001b[1;31mTypeError\u001b[0m: 'str' object does not support item assignment"
     ]
    }
   ],
   "source": [
    "noms = ['Newton', 'Darwing', 'Turing']\n",
    "print(noms)\n",
    "noms[1][6] = \" \""
   ]
  },
  {
   "cell_type": "code",
   "execution_count": 88,
   "metadata": {
    "collapsed": false,
    "scrolled": true
   },
   "outputs": [
    {
     "ename": "TypeError",
     "evalue": "'str' object does not support item assignment",
     "output_type": "error",
     "traceback": [
      "\u001b[1;31m---------------------------------------------------------------------------\u001b[0m",
      "\u001b[1;31mTypeError\u001b[0m                                 Traceback (most recent call last)",
      "\u001b[1;32m<ipython-input-88-276d38b44952>\u001b[0m in \u001b[0;36m<module>\u001b[1;34m()\u001b[0m\n\u001b[0;32m      1\u001b[0m \u001b[0munNom\u001b[0m \u001b[1;33m=\u001b[0m \u001b[1;34m\"Darwing\"\u001b[0m\u001b[1;33m\u001b[0m\u001b[0m\n\u001b[1;32m----> 2\u001b[1;33m \u001b[0munNom\u001b[0m\u001b[1;33m[\u001b[0m\u001b[1;36m6\u001b[0m\u001b[1;33m]\u001b[0m \u001b[1;33m=\u001b[0m \u001b[1;34m' '\u001b[0m\u001b[1;33m\u001b[0m\u001b[0m\n\u001b[0m",
      "\u001b[1;31mTypeError\u001b[0m: 'str' object does not support item assignment"
     ]
    }
   ],
   "source": [
    "unNom = \"Darwing\"\n",
    "unNom[6] = ' '"
   ]
  },
  {
   "cell_type": "code",
   "execution_count": 92,
   "metadata": {
    "collapsed": false
   },
   "outputs": [
    {
     "name": "stdout",
     "output_type": "stream",
     "text": [
      "['Newton', 'Darwin', 'Turing']\n"
     ]
    }
   ],
   "source": [
    "noms[1] = \"Darwin\"\n",
    "print(noms)"
   ]
  },
  {
   "cell_type": "code",
   "execution_count": 96,
   "metadata": {
    "collapsed": false
   },
   "outputs": [
    {
     "name": "stdout",
     "output_type": "stream",
     "text": [
      "[3, 5, 7, 9, 2]\n",
      "[3, 5, 7, 9, 2]\n"
     ]
    }
   ],
   "source": [
    "impairs = [3, 5, 7, 9]\n",
    "premiers = impairs\n",
    "premiers.append(2)\n",
    "\n",
    "print(premiers)\n",
    "print(impairs)"
   ]
  },
  {
   "cell_type": "code",
   "execution_count": 97,
   "metadata": {
    "collapsed": false
   },
   "outputs": [
    {
     "name": "stdout",
     "output_type": "stream",
     "text": [
      "[3, 5, 7, 2]\n",
      "[3, 5, 7, 2]\n"
     ]
    }
   ],
   "source": [
    "del impairs[3]\n",
    "print(premiers)\n",
    "print(impairs)"
   ]
  },
  {
   "cell_type": "code",
   "execution_count": 100,
   "metadata": {
    "collapsed": false
   },
   "outputs": [
    {
     "name": "stdout",
     "output_type": "stream",
     "text": [
      "Nombres impairs: [3, 5, 7, 9]\n",
      "Nombres premiers: [3, 5, 7, 2]\n"
     ]
    }
   ],
   "source": [
    "impairs = [3, 5, 7, 9]\n",
    "\n",
    "premiers = list(impairs)\n",
    "\n",
    "premiers.append(2)\n",
    "del premiers[3]\n",
    "\n",
    "print(\"Nombres impairs:\", impairs)\n",
    "print(\"Nombres premiers:\", premiers)"
   ]
  },
  {
   "cell_type": "code",
   "execution_count": 102,
   "metadata": {
    "collapsed": false
   },
   "outputs": [
    {
     "name": "stdout",
     "output_type": "stream",
     "text": [
      "[9, 7, 5, 3]\n"
     ]
    }
   ],
   "source": [
    "impairs.reverse()\n",
    "print(impairs)"
   ]
  },
  {
   "cell_type": "code",
   "execution_count": 108,
   "metadata": {
    "collapsed": false
   },
   "outputs": [
    {
     "name": "stdout",
     "output_type": "stream",
     "text": [
      "bonjour\n",
      "['b', 'o', 'n', 'j', 'o', 'u', 'r']\n"
     ]
    }
   ],
   "source": [
    "# Transformer une chaine de caracteres en liste\n",
    "mot = \"bonjour\"\n",
    "motList = []\n",
    "\n",
    "for car in mot:\n",
    "    motList += [car]\n",
    "\n",
    "print(mot)\n",
    "print(motList)"
   ]
  },
  {
   "cell_type": "code",
   "execution_count": 110,
   "metadata": {
    "collapsed": false
   },
   "outputs": [
    {
     "name": "stdout",
     "output_type": "stream",
     "text": [
      "g\n",
      "d\n"
     ]
    }
   ],
   "source": [
    "gauche = \"g\"\n",
    "droite = \"d\"\n",
    "sens1, sens2 = gauche, droite\n",
    "\n",
    "print(sens1)\n",
    "print(sens2)\n",
    "\n",
    "# Un tuple n'est pas une liste\n",
    "# Un tuple est immutable"
   ]
  },
  {
   "cell_type": "markdown",
   "metadata": {
    "collapsed": true
   },
   "source": [
    "## Chapitre 4 - Programmer avec Python"
   ]
  },
  {
   "cell_type": "code",
   "execution_count": 3,
   "metadata": {
    "collapsed": false
   },
   "outputs": [
    {
     "data": {
      "text/plain": [
       "'/home/etudiant/python'"
      ]
     },
     "execution_count": 3,
     "metadata": {},
     "output_type": "execute_result"
    }
   ],
   "source": [
    "pwd"
   ]
  },
  {
   "cell_type": "code",
   "execution_count": 4,
   "metadata": {
    "collapsed": false
   },
   "outputs": [
    {
     "name": "stdout",
     "output_type": "stream",
     "text": [
      "\u001b[0m\u001b[01;34mcode\u001b[0m/           python-2015-11-10.ipynb              README.md\r\n",
      "\u001b[01;34mdata\u001b[0m/           python-2016-06-06.ipynb              \u001b[01;34mswc-python-repo\u001b[0m/\r\n",
      "\u001b[01;32mpush_ipynb.sh\u001b[0m*  \u001b[01;31mpython-novice-inflammation-data.zip\u001b[0m  Untitled.ipynb\r\n"
     ]
    }
   ],
   "source": [
    "ls"
   ]
  },
  {
   "cell_type": "code",
   "execution_count": 5,
   "metadata": {
    "collapsed": true
   },
   "outputs": [],
   "source": [
    "import glob"
   ]
  },
  {
   "cell_type": "code",
   "execution_count": 12,
   "metadata": {
    "collapsed": false,
    "scrolled": true
   },
   "outputs": [
    {
     "name": "stdout",
     "output_type": "stream",
     "text": [
      "['data/inflammation-01.csv', 'data/inflammation-02.csv', 'data/inflammation-03.csv', 'data/inflammation-04.csv', 'data/inflammation-05.csv', 'data/inflammation-06.csv', 'data/inflammation-07.csv', 'data/inflammation-08.csv', 'data/inflammation-09.csv', 'data/inflammation-10.csv', 'data/inflammation-11.csv', 'data/inflammation-12.csv']\n"
     ]
    }
   ],
   "source": [
    "print(sorted(glob.glob(\"data/inflammation*.csv\")))"
   ]
  },
  {
   "cell_type": "code",
   "execution_count": 7,
   "metadata": {
    "collapsed": true
   },
   "outputs": [],
   "source": [
    "% matplotlib inline"
   ]
  },
  {
   "cell_type": "code",
   "execution_count": 13,
   "metadata": {
    "collapsed": false,
    "scrolled": true
   },
   "outputs": [
    {
     "name": "stdout",
     "output_type": "stream",
     "text": [
      "data/inflammation-01.csv\n"
     ]
    },
    {
     "data": {
      "image/png": "[encoded data removed]",
      "text/plain": [
       "<matplotlib.figure.Figure at 0xad7cb7cc>"
      ]
     },
     "metadata": {},
     "output_type": "display_data"
    },
    {
     "name": "stdout",
     "output_type": "stream",
     "text": [
      "data/inflammation-02.csv\n"
     ]
    },
    {
     "data": {
      "image/png": "[encoded data removed]",
      "text/plain": [
       "<matplotlib.figure.Figure at 0xad45e1cc>"
      ]
     },
     "metadata": {},
     "output_type": "display_data"
    },
    {
     "name": "stdout",
     "output_type": "stream",
     "text": [
      "data/inflammation-03.csv\n"
     ]
    },
    {
     "data": {
      "image/png": "[encoded data removed]",
      "text/plain": [
       "<matplotlib.figure.Figure at 0xad1adccc>"
      ]
     },
     "metadata": {},
     "output_type": "display_data"
    }
   ],
   "source": [
    "import numpy\n",
    "import matplotlib.pyplot\n",
    "\n",
    "fichiers = sorted(glob.glob(\"data/inflammation*.csv\"))\n",
    "\n",
    "for fichier in fichiers[:3]:\n",
    "    print(fichier)\n",
    "\n",
    "    donnees = numpy.loadtxt(fname=fichier, delimiter=',')\n",
    "\n",
    "    fig = matplotlib.pyplot.figure(figsize=(10.0, 3.0))\n",
    "\n",
    "    fig1 = fig.add_subplot(1, 3, 1)\n",
    "    fig2 = fig.add_subplot(1, 3, 2)\n",
    "    fig3 = fig.add_subplot(1, 3, 3)\n",
    "\n",
    "    fig1.set_ylabel(\"Moyenne\")\n",
    "    fig1.plot(donnees.mean(axis=0))\n",
    "\n",
    "    fig2.set_ylabel(\"Maximum\")\n",
    "    fig2.plot(donnees.max(axis=0))\n",
    "\n",
    "    fig3.set_ylabel(\"Minimum\")\n",
    "    fig3.plot(donnees.min(axis=0))\n",
    "\n",
    "    fig.tight_layout()\n",
    "    matplotlib.pyplot.show(fig)"
   ]
  },
  {
   "cell_type": "code",
   "execution_count": 9,
   "metadata": {
    "collapsed": false,
    "scrolled": true
   },
   "outputs": [
    {
     "name": "stdout",
     "output_type": "stream",
     "text": [
      "Variable     Type           Data/Info\n",
      "-------------------------------------\n",
      "donnees      ndarray        60x40: 2400 elems, type `float64`, 19200 bytes\n",
      "fichier      str            data/inflammation-11.csv\n",
      "fichiers     list           n=12\n",
      "fig          Figure         Figure(800x240)\n",
      "fig1         AxesSubplot    Axes(0.0578125,0.110185;0.244844x0.818981)\n",
      "fig2         AxesSubplot    Axes(0.394531,0.110185;0.244844x0.818981)\n",
      "fig3         AxesSubplot    Axes(0.73125,0.110185;0.244844x0.818981)\n",
      "glob         module         <module 'glob' from '/hom<...>3/lib/python3.5/glob.py'>\n",
      "matplotlib   module         <module 'matplotlib' from<...>/matplotlib/__init__.py'>\n",
      "numpy        module         <module 'numpy' from '/ho<...>kages/numpy/__init__.py'>\n"
     ]
    }
   ],
   "source": [
    "%whos"
   ]
  },
  {
   "cell_type": "markdown",
   "metadata": {},
   "source": [
    "## Chapitre 5 - Structures de décision"
   ]
  },
  {
   "cell_type": "code",
   "execution_count": 14,
   "metadata": {
    "collapsed": false
   },
   "outputs": [
    {
     "name": "stdout",
     "output_type": "stream",
     "text": [
      "Pas plus grand\n",
      "Fini\n"
     ]
    }
   ],
   "source": [
    "nombre = 37\n",
    "if nombre > 100:\n",
    "    print(\"N'importe quoi\")\n",
    "\n",
    "    print(\"Plus grand\")\n",
    "else:\n",
    "    print(\"Pas plus grand\")\n",
    "print(\"Fini\")"
   ]
  },
  {
   "cell_type": "code",
   "execution_count": 17,
   "metadata": {
    "collapsed": false
   },
   "outputs": [
    {
     "name": "stdout",
     "output_type": "stream",
     "text": [
      "N'importe quoi\n",
      "Plus grand\n",
      "Fini\n"
     ]
    }
   ],
   "source": [
    "nombre = 125\n",
    "if nombre > 100:\n",
    "    print(\"N'importe quoi\")\n",
    "\n",
    "    print(\"Plus grand\")\n",
    "else:\n",
    "    print(\"Pas plus grand\")\n",
    "print(\"Fini\")"
   ]
  },
  {
   "cell_type": "code",
   "execution_count": 18,
   "metadata": {
    "collapsed": false
   },
   "outputs": [
    {
     "name": "stdout",
     "output_type": "stream",
     "text": [
      "Avant\n",
      "Apres\n"
     ]
    }
   ],
   "source": [
    "nombre = -1\n",
    "print(\"Avant\")\n",
    "if nombre > 100:\n",
    "    print(\"N'importe quoi\")\n",
    "\n",
    "    print(\"Plus grand\")\n",
    "print(\"Apres\")"
   ]
  },
  {
   "cell_type": "code",
   "execution_count": 23,
   "metadata": {
    "collapsed": false
   },
   "outputs": [
    {
     "name": "stdout",
     "output_type": "stream",
     "text": [
      "Est zero\n"
     ]
    }
   ],
   "source": [
    "nombre = 0\n",
    "\n",
    "if nombre > 0:\n",
    "    print(\"Positif\")\n",
    "elif nombre == 0:\n",
    "    print(\"Est zero\")\n",
    "else:\n",
    "    print(\"Negatif\")"
   ]
  },
  {
   "cell_type": "code",
   "execution_count": 25,
   "metadata": {
    "collapsed": false
   },
   "outputs": [
    {
     "name": "stdout",
     "output_type": "stream",
     "text": [
      "Au moins un est faux\n"
     ]
    }
   ],
   "source": [
    "if (1 > 0) and (-1 > 0):\n",
    "    print(\"Les deux sont vrais\")\n",
    "else:\n",
    "    print(\"Au moins un est faux\")"
   ]
  },
  {
   "cell_type": "code",
   "execution_count": 26,
   "metadata": {
    "collapsed": false
   },
   "outputs": [
    {
     "name": "stdout",
     "output_type": "stream",
     "text": [
      "Au moins un est vrai\n"
     ]
    }
   ],
   "source": [
    " if (1 < 0) or (-1 < 0):\n",
    "    print(\"Au moins un est vrai\")\n",
    "else:\n",
    "    print(\"Les deux sont faux\")"
   ]
  },
  {
   "cell_type": "code",
   "execution_count": 34,
   "metadata": {
    "collapsed": false
   },
   "outputs": [
    {
     "name": "stdout",
     "output_type": "stream",
     "text": [
      "Donnees minimales toutes nulles\n"
     ]
    }
   ],
   "source": [
    "donnees = numpy.loadtxt(fname=\"data/inflammation-11.csv\", delimiter=',')\n",
    "\n",
    "donneesMax = donnees.max(axis=0)\n",
    "donneesMin = donnees.min(axis=0)\n",
    "\n",
    "if (donneesMax[0] == 0) and (donneesMax[20] == 20):\n",
    "    print(\"Donnees maximales douteuses\")\n",
    "elif donneesMin.sum() == 0:\n",
    "    print(\"Donnees minimales toutes nulles\")\n",
    "else:\n",
    "    print(\"Tout semble OK\")"
   ]
  },
  {
   "cell_type": "code",
   "execution_count": 38,
   "metadata": {
    "collapsed": false
   },
   "outputs": [
    {
     "name": "stdout",
     "output_type": "stream",
     "text": [
      "Chaine vide est Faux\n",
      "Une phrase est Vrai\n"
     ]
    }
   ],
   "source": [
    "if not '':\n",
    "    print(\"Chaine vide est Faux\")\n",
    "if \"Une chaine de caracteres\":\n",
    "    print(\"Une phrase est Vrai\")"
   ]
  },
  {
   "cell_type": "code",
   "execution_count": 40,
   "metadata": {
    "collapsed": false
   },
   "outputs": [
    {
     "name": "stdout",
     "output_type": "stream",
     "text": [
      "Liste vide est Faux\n",
      "Liste non-vide est Vrai\n"
     ]
    }
   ],
   "source": [
    "if not []:\n",
    "    print(\"Liste vide est Faux\")\n",
    "if [1, 1000, 25]:\n",
    "    print(\"Liste non-vide est Vrai\")"
   ]
  },
  {
   "cell_type": "code",
   "execution_count": 41,
   "metadata": {
    "collapsed": false
   },
   "outputs": [
    {
     "name": "stdout",
     "output_type": "stream",
     "text": [
      "Un est vrai\n"
     ]
    }
   ],
   "source": [
    "if 0:\n",
    "    print(\"Zero est vrai\")\n",
    "if 1:\n",
    "    print(\"Un est vrai\")"
   ]
  },
  {
   "cell_type": "code",
   "execution_count": 46,
   "metadata": {
    "collapsed": false
   },
   "outputs": [
    {
     "name": "stdout",
     "output_type": "stream",
     "text": [
      "Moins-un est vrai\n"
     ]
    }
   ],
   "source": [
    "if (-0+0j):\n",
    "    print(\"0 complexe est vrai\")\n",
    "if -1:\n",
    "    print(\"Moins-un est vrai\")"
   ]
  },
  {
   "cell_type": "code",
   "execution_count": 48,
   "metadata": {
    "collapsed": false
   },
   "outputs": [
    {
     "name": "stdout",
     "output_type": "stream",
     "text": [
      "None est faux\n"
     ]
    }
   ],
   "source": [
    "if None:\n",
    "    print(\"None est vrai\")\n",
    "else:\n",
    "    print(\"None est faux\")"
   ]
  },
  {
   "cell_type": "code",
   "execution_count": 49,
   "metadata": {
    "collapsed": false
   },
   "outputs": [
    {
     "name": "stdout",
     "output_type": "stream",
     "text": [
      "Vrai Xor Faux est Vrai\n"
     ]
    }
   ],
   "source": [
    "if True ^ False:\n",
    "    print(\"Vrai Xor Faux est Vrai\")"
   ]
  },
  {
   "cell_type": "markdown",
   "metadata": {},
   "source": [
    "## Chapitre 5 - Créer des fonctions"
   ]
  },
  {
   "cell_type": "code",
   "execution_count": 56,
   "metadata": {
    "collapsed": true
   },
   "outputs": [],
   "source": [
    "def fahr_a_kelvin(temp):\n",
    "    return ((temp - 32) * (5.0 / 9)) + 273.15"
   ]
  },
  {
   "cell_type": "code",
   "execution_count": 54,
   "metadata": {
    "collapsed": false
   },
   "outputs": [
    {
     "data": {
      "text/plain": [
       "1.5"
      ]
     },
     "execution_count": 54,
     "metadata": {},
     "output_type": "execute_result"
    }
   ],
   "source": [
    "# Attention : ce code donne 1 dans Python 2.*\n",
    "3 / 2"
   ]
  },
  {
   "cell_type": "code",
   "execution_count": 52,
   "metadata": {
    "collapsed": false
   },
   "outputs": [
    {
     "data": {
      "text/plain": [
       "1.5"
      ]
     },
     "execution_count": 52,
     "metadata": {},
     "output_type": "execute_result"
    }
   ],
   "source": [
    "3.0 / 2"
   ]
  },
  {
   "cell_type": "code",
   "execution_count": 53,
   "metadata": {
    "collapsed": false
   },
   "outputs": [
    {
     "data": {
      "text/plain": [
       "1.5"
      ]
     },
     "execution_count": 53,
     "metadata": {},
     "output_type": "execute_result"
    }
   ],
   "source": [
    "float(3) / 2"
   ]
  },
  {
   "cell_type": "code",
   "execution_count": 55,
   "metadata": {
    "collapsed": false
   },
   "outputs": [
    {
     "data": {
      "text/plain": [
       "1"
      ]
     },
     "execution_count": 55,
     "metadata": {},
     "output_type": "execute_result"
    }
   ],
   "source": [
    "3 // 2"
   ]
  },
  {
   "cell_type": "code",
   "execution_count": 59,
   "metadata": {
    "collapsed": false
   },
   "outputs": [
    {
     "name": "stdout",
     "output_type": "stream",
     "text": [
      "Zero absolu: -273.15\n"
     ]
    }
   ],
   "source": [
    "def kelvin_a_celcius(tempK):\n",
    "    return tempK - 273.15\n",
    "\n",
    "print(\"Zero absolu:\", kelvin_a_celcius(0.0))"
   ]
  },
  {
   "cell_type": "code",
   "execution_count": 60,
   "metadata": {
    "collapsed": false
   },
   "outputs": [
    {
     "name": "stdout",
     "output_type": "stream",
     "text": [
      "Point de congelation de l'eau:  0.0\n"
     ]
    }
   ],
   "source": [
    "def fahr_a_celcius(tempF):\n",
    "    tempK = fahr_a_kelvin(tempF)\n",
    "    tempC = kelvin_a_celcius(tempK)\n",
    "    return tempC\n",
    "\n",
    "print(\"Point de congelation de l'eau: \", fahr_a_celcius(32))"
   ]
  },
  {
   "cell_type": "code",
   "execution_count": null,
   "metadata": {
    "collapsed": true
   },
   "outputs": [],
   "source": []
  }
 ],
 "metadata": {
  "kernelspec": {
   "display_name": "Python 3",
   "language": "python",
   "name": "python3"
  },
  "language_info": {
   "codemirror_mode": {
    "name": "ipython",
    "version": 3
   },
   "file_extension": ".py",
   "mimetype": "text/x-python",
   "name": "python",
   "nbconvert_exporter": "python",
   "pygments_lexer": "ipython3",
   "version": "3.5.1"
  }
 },
 "nbformat": 4,
 "nbformat_minor": 0
}
