{
 "cells": [
  {
   "cell_type": "markdown",
   "metadata": {},
   "source": [
    "# Introduction à la programmation avec Python"
   ]
  },
  {
   "cell_type": "markdown",
   "metadata": {},
   "source": [
    "## À propos du Notebook Jupyter\n",
    "* Plusieurs opérations telles que l'exécution ou l'insertion d'une cellule peuvent se faire à l'aide de la barre d'outils ci-haut.\n",
    "* Voici une liste de raccourcis pour le clavier :\n",
    "\n",
    "| Raccourcis            | Action                                |\n",
    "|-----------------------|---------------------------------------|\n",
    "| **Maj + Entrée**      | Exécuter le code                      |\n",
    "| Double-clic ou Entrée | Entrer dans la boîte (mode édition)   |\n",
    "| Esc                   | Sordir de la boîte (mode commandes)   |\n",
    "\n",
    "| En mode édition: |                        |\n",
    "|------------------|------------------------|\n",
    "| Tab              | Compléter une commande |\n",
    "\n",
    "| En mode commandes: |                                |\n",
    "|--------------------|--------------------------------|\n",
    "| b                  | Insérer une cellule en-dessous |\n",
    "| a                  | Insérer une cellule au-dessus  |\n",
    "| s                  | Sauvegarder                    |\n",
    "| x/c/v              | Couper/Copier/Coller           |"
   ]
  },
  {
   "cell_type": "code",
   "execution_count": null,
   "metadata": {
    "collapsed": true
   },
   "outputs": [],
   "source": [
    "import ..."
   ]
  }
 ],
 "metadata": {
  "kernelspec": {
   "display_name": "Python 3",
   "language": "python",
   "name": "python3"
  },
  "language_info": {
   "codemirror_mode": {
    "name": "ipython",
    "version": 3
   },
   "file_extension": ".py",
   "mimetype": "text/x-python",
   "name": "python",
   "nbconvert_exporter": "python",
   "pygments_lexer": "ipython3",
   "version": "3.5.1"
  }
 },
 "nbformat": 4,
 "nbformat_minor": 0
}
